{
  "cells": [
    {
      "cell_type": "code",
      "execution_count": null,
      "id": "8b23c04c",
      "metadata": {
        "id": "8b23c04c",
        "outputId": "9fab7d83-5be0-4280-98df-a122c27e00c4",
        "colab": {
          "base_uri": "https://localhost:8080/"
        }
      },
      "outputs": [
        {
          "name": "stdout",
          "output_type": "stream",
          "text": [
            "1. Add new contact \n",
            " 2. Search contact\n",
            " 3. Display Contact\n",
            " 4. Edit Contact\n",
            " 5. Delete Contact\n",
            " 6. Exist\n",
            " Enter the Choice : 1\n",
            "enter the contact name : tanuja\n",
            "enter the mobile number : 7731911927\n",
            "1. Add new contact \n",
            " 2. Search contact\n",
            " 3. Display Contact\n",
            " 4. Edit Contact\n",
            " 5. Delete Contact\n",
            " 6. Exist\n",
            " Enter the Choice : 2\n",
            "enter the contact name : tanuja\n",
            "tanuja 's contact number is  7731911927\n",
            "1. Add new contact \n",
            " 2. Search contact\n",
            " 3. Display Contact\n",
            " 4. Edit Contact\n",
            " 5. Delete Contact\n",
            " 6. Exist\n",
            " Enter the Choice : 3\n",
            "Name\t\tContact Number\n",
            "tanuja\t\t7731911927\n",
            "1. Add new contact \n",
            " 2. Search contact\n",
            " 3. Display Contact\n",
            " 4. Edit Contact\n",
            " 5. Delete Contact\n",
            " 6. Exist\n",
            " Enter the Choice : 4\n",
            "Enter the contact to be edited!tanuja\n",
            "Enter mobile number!9962566559\n",
            "contact updated!\n",
            "1. Add new contact \n",
            " 2. Search contact\n",
            " 3. Display Contact\n",
            " 4. Edit Contact\n",
            " 5. Delete Contact\n",
            " 6. Exist\n",
            " Enter the Choice : 6\n"
          ]
        }
      ],
      "source": [
        "contact={}\n",
        "\n",
        "def display_contact():\n",
        "    print(\"Name\\t\\tContact Number\")\n",
        "    for key in contact:\n",
        "        print(\"{}\\t\\t{}\".format(key,contact.get(key)))\n",
        "        \n",
        "while True:\n",
        "    choice = int(input(\"1. Add new contact \\n 2. Search contact\\n 3. Display Contact\\n 4. Edit Contact\\n 5. Delete Contact\\n 6. Exist\\n Enter the Choice : \"))\n",
        "    if choice ==1:\n",
        "        name = input(\"enter the contact name : \")\n",
        "        phone =input(\"enter the mobile number : \")\n",
        "        contact[name]=phone\n",
        "    elif choice ==2:\n",
        "        search_name =input(\"enter the contact name : \")\n",
        "        if search_name in contact:\n",
        "            print(search_name,\"'s contact number is \",contact[search_name])\n",
        "        else:\n",
        "            print(\"Name is not found in contact : \")\n",
        "    elif choice==3:\n",
        "        if not contact:\n",
        "            print(\"empty contact book : \")\n",
        "        else:\n",
        "            display_contact()\n",
        "    elif choice ==4:\n",
        "        edit_contact = input(\"Enter the contact to be edited!\")\n",
        "        if edit_contact in contact:\n",
        "            phone =input(\"Enter mobile number!\")\n",
        "            contact[edit_contact]=phone\n",
        "            print(\"contact updated!\")\n",
        "        else:\n",
        "            print(\"Name is not found in contact book!\")\n",
        "    elif choice ==5:\n",
        "        del_contact=input(\"Enter the contact to be deleted!\")\n",
        "        if del_contact in contact:\n",
        "            confirm =input(\"Do you want to delete this contact! y/n\")\n",
        "            if confirm =='y' or confirm =='Y':\n",
        "                contact.pop(del_contact)\n",
        "            display_contact()\n",
        "        else:\n",
        "            print(\"Name is not found in contact book!\")\n",
        "    else:\n",
        "        break"
      ]
    },
    {
      "cell_type": "code",
      "execution_count": null,
      "id": "fc2d541b",
      "metadata": {
        "id": "fc2d541b"
      },
      "outputs": [],
      "source": [
        ""
      ]
    }
  ],
  "metadata": {
    "kernelspec": {
      "display_name": "Python 3 (ipykernel)",
      "language": "python",
      "name": "python3"
    },
    "language_info": {
      "codemirror_mode": {
        "name": "ipython",
        "version": 3
      },
      "file_extension": ".py",
      "mimetype": "text/x-python",
      "name": "python",
      "nbconvert_exporter": "python",
      "pygments_lexer": "ipython3",
      "version": "3.9.7"
    },
    "colab": {
      "name": "contact_book_python.ipynb",
      "provenance": []
    }
  },
  "nbformat": 4,
  "nbformat_minor": 5
}